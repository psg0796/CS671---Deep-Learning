{
 "cells": [
  {
   "cell_type": "code",
   "execution_count": 1,
   "metadata": {},
   "outputs": [],
   "source": [
    "from moviepy.editor import *\n",
    "import matplotlib.pyplot as plt\n",
    "import numpy as np\n",
    "\n",
    "video_path = '../input/videos/'\n",
    "video_name = 'race-speech.mp4'\n",
    "frame_output_path = '../input/frames/'\n",
    "\n",
    "video = VideoFileClip(video_path + video_name)\n",
    "audio = video.audio\n",
    "duration = video.duration # == audio.duration, presented in seconds, float\n",
    "#note video.fps != audio.fps"
   ]
  },
  {
   "cell_type": "code",
   "execution_count": 17,
   "metadata": {},
   "outputs": [],
   "source": [
    "audio_frame = []\n",
    "video_frame = []\n",
    "step = 0.1\n",
    "for t in range(int(duration / step)): # runs through audio/video frames obtaining them by timestamp with step 100 msec\n",
    "    t = t * step\n",
    "    if t > audio.duration or t > video.duration: break\n",
    "    audio_frame.append(audio.get_frame(t)) #numpy array representing mono/stereo values\n",
    "    video_frame.append(video.get_frame(t)) #numpy array representing RGB/gray frame"
   ]
  },
  {
   "cell_type": "code",
   "execution_count": 18,
   "metadata": {},
   "outputs": [],
   "source": [
    "audio_frame = np.asarray(audio_frame)\n",
    "video_frame = np.asarray(video_frame)"
   ]
  },
  {
   "cell_type": "code",
   "execution_count": 23,
   "metadata": {},
   "outputs": [],
   "source": []
  },
  {
   "cell_type": "code",
   "execution_count": 32,
   "metadata": {},
   "outputs": [
    {
     "data": {
      "text/plain": [
       "array([0., 0.])"
      ]
     },
     "execution_count": 32,
     "metadata": {},
     "output_type": "execute_result"
    }
   ],
   "source": []
  }
 ],
 "metadata": {
  "kernelspec": {
   "display_name": "Python 3",
   "language": "python",
   "name": "python3"
  },
  "language_info": {
   "codemirror_mode": {
    "name": "ipython",
    "version": 3
   },
   "file_extension": ".py",
   "mimetype": "text/x-python",
   "name": "python",
   "nbconvert_exporter": "python",
   "pygments_lexer": "ipython3",
   "version": "3.6.7"
  }
 },
 "nbformat": 4,
 "nbformat_minor": 2
}
